{
  "nbformat": 4,
  "nbformat_minor": 0,
  "metadata": {
    "colab": {
      "provenance": []
    },
    "kernelspec": {
      "name": "python3",
      "display_name": "Python 3"
    },
    "language_info": {
      "name": "python"
    }
  },
  "cells": [
    {
      "cell_type": "code",
      "execution_count": 2,
      "metadata": {
        "colab": {
          "base_uri": "https://localhost:8080/"
        },
        "id": "nDOPcccz16Nm",
        "outputId": "f41b11e3-cd7f-454c-98bb-e0d2cf6a3ee2"
      },
      "outputs": [
        {
          "output_type": "stream",
          "name": "stdout",
          "text": [
            "array('i', [10, 10, 10, 10, 10, 10, 10, 10, 10, 10])\n"
          ]
        }
      ],
      "source": [
        "#import library array \n",
        "\n",
        "import array as arr\n",
        "arr_int = arr.array('i',[10,10,10,10,10,10,10,10,10,10])\n",
        "\n",
        "print(arr_int)"
      ]
    },
    {
      "cell_type": "code",
      "source": [
        "harga_jual = 1000\n",
        "keuntungan = 100000\n",
        "jumlah_tahu_terjual = 20\n",
        "print(harga_jual)"
      ],
      "metadata": {
        "colab": {
          "base_uri": "https://localhost:8080/"
        },
        "id": "ZHuDUxec2iBi",
        "outputId": "9300be70-595a-4953-b037-62aa46d6b9aa"
      },
      "execution_count": 13,
      "outputs": [
        {
          "output_type": "stream",
          "name": "stdout",
          "text": [
            "1000\n"
          ]
        }
      ]
    },
    {
      "cell_type": "code",
      "source": [
        "harga_jual = 1000\n",
        "keuntungan = 100000\n",
        "jumlah_tahu_terjual = 20\n",
        "print(keuntungan)"
      ],
      "metadata": {
        "colab": {
          "base_uri": "https://localhost:8080/"
        },
        "id": "-Wgn9rsq4Jpd",
        "outputId": "6a026641-6604-40d1-f84f-09ca8a7228b6"
      },
      "execution_count": 14,
      "outputs": [
        {
          "output_type": "stream",
          "name": "stdout",
          "text": [
            "100000\n"
          ]
        }
      ]
    },
    {
      "cell_type": "code",
      "source": [
        "harga_jual = 1000\n",
        "keuntungan = 100000\n",
        "jumlah_tahu_terjual = 20\n",
        "print(jumlah_tahu_terjual)"
      ],
      "metadata": {
        "colab": {
          "base_uri": "https://localhost:8080/"
        },
        "id": "H5GxqjwF4ZX7",
        "outputId": "f2825385-f778-49ed-efe3-7071b31ca384"
      },
      "execution_count": 15,
      "outputs": [
        {
          "output_type": "stream",
          "name": "stdout",
          "text": [
            "20\n"
          ]
        }
      ]
    },
    {
      "cell_type": "code",
      "source": [
        "#import library array \n",
        "\n",
        "import array as arr\n",
        "arr_int = arr.array('i',[0,0,10,10,10,10,10,10,10,10])\n",
        "\n",
        "print(arr_int)\n",
        "\n",
        "harga_jual = 1000\n",
        "keuntungan = 100000\n",
        "jumlah_tahu_terjual = 20\n",
        "sisa_tahu = 80\n",
        "print(sisa_tahu)\n",
        "\n",
        "harga_beli = 20000\n",
        "keuntungan = 100000\n",
        "jumlah_tahu_terjual = 20\n",
        "sisa_tahu = 80\n",
        "print(harga_beli)\n",
        "\n",
        "harga_beli = 20000\n",
        "keuntungan = 100000\n",
        "jumlah_tahu_terjual = 20\n",
        "sisa_tahu = 80\n",
        "uang_kembali = 80000\n",
        "print(uang_kembali)"
      ],
      "metadata": {
        "colab": {
          "base_uri": "https://localhost:8080/"
        },
        "id": "wEN3y2pi4vgA",
        "outputId": "2752d8cc-0c38-40aa-fc04-32233808ed62"
      },
      "execution_count": 16,
      "outputs": [
        {
          "output_type": "stream",
          "name": "stdout",
          "text": [
            "array('i', [0, 0, 10, 10, 10, 10, 10, 10, 10, 10])\n",
            "80\n",
            "20000\n",
            "80000\n"
          ]
        }
      ]
    }
  ]
}