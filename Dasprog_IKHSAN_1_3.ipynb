{
  "nbformat": 4,
  "nbformat_minor": 0,
  "metadata": {
    "colab": {
      "provenance": []
    },
    "kernelspec": {
      "name": "python3",
      "display_name": "Python 3"
    },
    "language_info": {
      "name": "python"
    }
  },
  "cells": [
    {
      "cell_type": "markdown",
      "source": [
        "NO 1"
      ],
      "metadata": {
        "id": "xvhAnoXLrH29"
      }
    },
    {
      "cell_type": "code",
      "source": [
        "#import library array \n",
        "\n",
        "import array as kamar\n",
        "kamar_int = kamar.array('i',[1,2,3,4,5,6,7,8,9,10])\n",
        "\n",
        "print(kamar_int)\n",
        "\n",
        "kamar=arr.array('u',[])\n",
        "for i in range(10):\n",
        "  if i+1==2 or i+1==4 or i+1==7 or i+1==9:\n",
        "    kamar.insert(i-1,'O')\n",
        "  else:\n",
        "    kamar.insert(i+1,'X')\n",
        "print(kamar)"
      ],
      "metadata": {
        "colab": {
          "base_uri": "https://localhost:8080/"
        },
        "id": "-8gqHt35upfo",
        "outputId": "7a318865-e7a3-4a0e-9698-8319c435ed39"
      },
      "execution_count": 13,
      "outputs": [
        {
          "output_type": "stream",
          "name": "stdout",
          "text": [
            "array('i', [1, 2, 3, 4, 5, 6, 7, 8, 9, 10])\n",
            "array('u', 'OXOXXOXOXX')\n"
          ]
        }
      ]
    },
    {
      "cell_type": "markdown",
      "source": [
        "NO 2"
      ],
      "metadata": {
        "id": "eyJw9GPJvKsR"
      }
    },
    {
      "cell_type": "code",
      "source": [
        "pjg_array = len(arr_int)\n",
        "print(\"Kamar yang masih kosong:\",kamar_int[pjg_array-1])\n",
        "\n",
        "#looping mengakses jumlah kamar yang masih kosong\n",
        "total = 0\n",
        "for j in range(pjg_array):\n",
        "    total = total + arr_int[j]\n",
        "    print(total)"
      ],
      "metadata": {
        "colab": {
          "base_uri": "https://localhost:8080/"
        },
        "id": "wPv-8wuEvL_g",
        "outputId": "69b4afb7-125c-4f12-ee0b-9f4bcbd78d7a"
      },
      "execution_count": 14,
      "outputs": [
        {
          "output_type": "stream",
          "name": "stdout",
          "text": [
            "Kamar yang masih kosong: 10\n",
            "1\n",
            "3\n",
            "6\n",
            "10\n",
            "15\n",
            "21\n",
            "28\n",
            "36\n",
            "45\n",
            "55\n"
          ]
        }
      ]
    },
    {
      "cell_type": "markdown",
      "source": [
        "NO 3"
      ],
      "metadata": {
        "id": "OQ-xuSuhvR09"
      }
    },
    {
      "cell_type": "code",
      "source": [
        "kamar_int[0] = 80\n",
        "print(kamar_int)\n",
        "\n",
        "kamar_int.remove(80)\n",
        "print(kamar_int)\n",
        "\n",
        "kamar_int.pop()\n",
        "print(kamar_int)"
      ],
      "metadata": {
        "colab": {
          "base_uri": "https://localhost:8080/"
        },
        "id": "0F8NJnHxxC4x",
        "outputId": "25a5612b-bd89-4957-fd63-1166a7392cd0"
      },
      "execution_count": 24,
      "outputs": [
        {
          "output_type": "stream",
          "name": "stdout",
          "text": [
            "array('i', [80, 2, 3, 4, 5, 6, 7, 8, 9, 10])\n",
            "array('i', [2, 3, 4, 5, 6, 7, 8, 9, 10])\n",
            "array('i', [2, 3, 4, 5, 6, 7, 8, 9])\n"
          ]
        }
      ]
    }
  ]
}